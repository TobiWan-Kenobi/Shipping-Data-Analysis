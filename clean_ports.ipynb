{
 "cells": [
  {
   "cell_type": "markdown",
   "id": "9c390457",
   "metadata": {},
   "source": [
    "# Join and clean ports data"
   ]
  },
  {
   "cell_type": "markdown",
   "id": "a63ff218",
   "metadata": {},
   "source": [
    "#### Building a log of ship journeys, I found inconsistncies in the data\n",
    "More specifically, the ports data set appears to be incomplete. Inspecting an intermediate test data set with the logs of one specific ship, I found that this specific ship (IMO = 9776224) frequently left from Felixstowe and came back to Felixstowe without passing by another port, which seems implausabile. After leaving from Felixstowe, I followed its coordinates and stopped where the speed got down to 0 for a couple of hours. I compared the coordinates where the ship was standing with the ports data set and could not find a match. In addition, I searched the coordinates where the ship was in google maps and found that it was standing in a port close to Kuala Lumpur. I compared with the ports data set again, and could not find a port in Kuala Lumpur in the data set. \n",
    "\n",
    "Hence, I downloaded a ports data set from the World Port Index (https://fgmod.nga.mil/apps/WPI-Viewer/) and will now merge the two port data sets that I have. "
   ]
  },
  {
   "cell_type": "code",
   "execution_count": 1,
   "id": "5f1a1b92",
   "metadata": {},
   "outputs": [],
   "source": [
    "import pandas as pd\n",
    "import os\n",
    "import numpy as np\n",
    "import pycountry\n"
   ]
  },
  {
   "cell_type": "code",
   "execution_count": 2,
   "id": "e77abc0c",
   "metadata": {},
   "outputs": [],
   "source": [
    "# import both port files\n",
    "current_directory = os.path.abspath(\".\")\n",
    "relative_path = \"data/PORTS.csv\"\n",
    "full_file_path = os.path.join(current_directory, relative_path)\n",
    "ports_org = pd.read_csv(full_file_path)\n",
    "\n",
    "relative_path = \"data/WPI.csv\"\n",
    "full_file_path = os.path.join(current_directory, relative_path)\n",
    "ports_wpi = pd.read_csv(full_file_path)\n",
    "ports_wpi = ports_wpi[['Main Port Name', 'Country Code', 'Latitude', 'Longitude']]"
   ]
  },
  {
   "cell_type": "code",
   "execution_count": 3,
   "id": "451e2ced",
   "metadata": {},
   "outputs": [
    {
     "data": {
      "text/html": [
       "<div>\n",
       "<style scoped>\n",
       "    .dataframe tbody tr th:only-of-type {\n",
       "        vertical-align: middle;\n",
       "    }\n",
       "\n",
       "    .dataframe tbody tr th {\n",
       "        vertical-align: top;\n",
       "    }\n",
       "\n",
       "    .dataframe thead th {\n",
       "        text-align: right;\n",
       "    }\n",
       "</style>\n",
       "<table border=\"1\" class=\"dataframe\">\n",
       "  <thead>\n",
       "    <tr style=\"text-align: right;\">\n",
       "      <th></th>\n",
       "      <th>PORT_NAME</th>\n",
       "      <th>CNTR_CODE3</th>\n",
       "      <th>LONGITUDE</th>\n",
       "      <th>LATITUDE</th>\n",
       "    </tr>\n",
       "  </thead>\n",
       "  <tbody>\n",
       "    <tr>\n",
       "      <th>4195</th>\n",
       "      <td>HAMBURG</td>\n",
       "      <td>DEU</td>\n",
       "      <td>9.964576</td>\n",
       "      <td>53.527793</td>\n",
       "    </tr>\n",
       "  </tbody>\n",
       "</table>\n",
       "</div>"
      ],
      "text/plain": [
       "     PORT_NAME CNTR_CODE3  LONGITUDE   LATITUDE\n",
       "4195   HAMBURG        DEU   9.964576  53.527793"
      ]
     },
     "execution_count": 3,
     "metadata": {},
     "output_type": "execute_result"
    }
   ],
   "source": [
    "ports_org[ports_org['PORT_NAME'] == 'HAMBURG']"
   ]
  },
  {
   "cell_type": "code",
   "execution_count": 4,
   "id": "17eaf8a4",
   "metadata": {},
   "outputs": [
    {
     "data": {
      "text/html": [
       "<div>\n",
       "<style scoped>\n",
       "    .dataframe tbody tr th:only-of-type {\n",
       "        vertical-align: middle;\n",
       "    }\n",
       "\n",
       "    .dataframe tbody tr th {\n",
       "        vertical-align: top;\n",
       "    }\n",
       "\n",
       "    .dataframe thead th {\n",
       "        text-align: right;\n",
       "    }\n",
       "</style>\n",
       "<table border=\"1\" class=\"dataframe\">\n",
       "  <thead>\n",
       "    <tr style=\"text-align: right;\">\n",
       "      <th></th>\n",
       "      <th>Main Port Name</th>\n",
       "      <th>Country Code</th>\n",
       "      <th>Latitude</th>\n",
       "      <th>Longitude</th>\n",
       "    </tr>\n",
       "  </thead>\n",
       "  <tbody>\n",
       "    <tr>\n",
       "      <th>2813</th>\n",
       "      <td>Hamburg</td>\n",
       "      <td>Germany</td>\n",
       "      <td>53.55</td>\n",
       "      <td>9.933333</td>\n",
       "    </tr>\n",
       "  </tbody>\n",
       "</table>\n",
       "</div>"
      ],
      "text/plain": [
       "     Main Port Name Country Code  Latitude  Longitude\n",
       "2813        Hamburg      Germany     53.55   9.933333"
      ]
     },
     "execution_count": 4,
     "metadata": {},
     "output_type": "execute_result"
    }
   ],
   "source": [
    "ports_wpi[ports_wpi['Main Port Name'] == 'Hamburg']"
   ]
  },
  {
   "cell_type": "code",
   "execution_count": 5,
   "id": "d94e2177",
   "metadata": {},
   "outputs": [],
   "source": [
    "# create new column with port name is lower case latters to match the two dfs on it\n",
    "ports_wpi['Port Name Lower'] = ports_wpi['Main Port Name'].str.lower()\n",
    "ports_org['Port Name Lower'] = ports_org['PORT_NAME'].str.lower()"
   ]
  },
  {
   "cell_type": "code",
   "execution_count": 6,
   "id": "aee1892b",
   "metadata": {},
   "outputs": [],
   "source": [
    "ports = pd.merge(ports_org, ports_wpi, how = 'outer', on = 'Port Name Lower', indicator = True)"
   ]
  },
  {
   "cell_type": "code",
   "execution_count": 7,
   "id": "3104be7b",
   "metadata": {},
   "outputs": [],
   "source": [
    "ports = ports.sort_values(by = 'Port Name Lower')"
   ]
  },
  {
   "cell_type": "code",
   "execution_count": 8,
   "id": "52d1dacb",
   "metadata": {},
   "outputs": [],
   "source": [
    "# merge longitude and latidude in one column each\n",
    "ports.loc[ports['LONGITUDE'].isna(), 'LONGITUDE'] = ports.loc[ports['LONGITUDE'].isna(), 'Longitude']\n",
    "ports.loc[ports['LATITUDE'].isna(), 'LATITUDE'] = ports.loc[ports['LATITUDE'].isna(), 'Latitude']"
   ]
  },
  {
   "cell_type": "code",
   "execution_count": 9,
   "id": "c104e195",
   "metadata": {},
   "outputs": [],
   "source": [
    "# compute coordinate diff to previous entry in the data - \n",
    "# logic: If ports appear multiple times but have slighty different names, the difference to the previous entry will indicate two ports actually being the same\n",
    "ports['lon diff'] = ports['LONGITUDE'] - ports['LONGITUDE'].shift(1)\n",
    "ports['lat diff'] = ports['LATITUDE'] - ports['LATITUDE'].shift(1)\n",
    "ports['position diff'] = abs(ports['lon diff']) + abs(ports['lat diff'])"
   ]
  },
  {
   "cell_type": "code",
   "execution_count": 10,
   "id": "3486be5a",
   "metadata": {},
   "outputs": [
    {
     "name": "stdout",
     "output_type": "stream",
     "text": [
      "This will eliminate 861 ports\n"
     ]
    }
   ],
   "source": [
    "print('This will eliminate', len(ports[ports['position diff'] <= 0.1]), 'ports')"
   ]
  },
  {
   "cell_type": "code",
   "execution_count": 11,
   "id": "7a274978",
   "metadata": {},
   "outputs": [],
   "source": [
    "ports_clean = ports[ports['position diff'] > 0.1]"
   ]
  },
  {
   "cell_type": "code",
   "execution_count": 12,
   "id": "ced631fa",
   "metadata": {},
   "outputs": [
    {
     "name": "stderr",
     "output_type": "stream",
     "text": [
      "C:\\Users\\tobia\\AppData\\Local\\Temp\\ipykernel_10560\\2190878364.py:15: SettingWithCopyWarning: \n",
      "A value is trying to be set on a copy of a slice from a DataFrame.\n",
      "Try using .loc[row_indexer,col_indexer] = value instead\n",
      "\n",
      "See the caveats in the documentation: https://pandas.pydata.org/pandas-docs/stable/user_guide/indexing.html#returning-a-view-versus-a-copy\n",
      "  ports_clean['Country Code 3'] = ports_clean['Country Code'].map(countries)\n"
     ]
    }
   ],
   "source": [
    "# Merge country names - problem: I have the 3 digit codes and the full name of the country from the two data sets\n",
    "# use pycountry to translate full country names to 3 digit code\n",
    "\n",
    "countries = {}\n",
    "for country in pycountry.countries:\n",
    "    countries[country.name] = country.alpha_3\n",
    "    \n",
    "countries['Turkey'] = 'TUR'\n",
    "countries['Iran'] = 'IRN'\n",
    "countries['South Korea'] = 'KOR'\n",
    "countries['Congo (Brazzaville)'] = 'COG'\n",
    "countries['Russia'] = 'RUS'\n",
    "countries['Burma'] = 'BUR'\n",
    "\n",
    "ports_clean['Country Code 3'] = ports_clean['Country Code'].map(countries)"
   ]
  },
  {
   "cell_type": "code",
   "execution_count": 13,
   "id": "8b216e09",
   "metadata": {},
   "outputs": [],
   "source": [
    "# impute all missing values in CNTR_CODE3 with country codes from other ports file\n",
    "ports_clean.loc[ports_clean['CNTR_CODE3'].isna(), 'CNTR_CODE3'] = ports_clean.loc[ports_clean['CNTR_CODE3'].isna(), 'Country Code 3']"
   ]
  },
  {
   "cell_type": "code",
   "execution_count": 14,
   "id": "6801abe5",
   "metadata": {},
   "outputs": [
    {
     "data": {
      "text/html": [
       "<div>\n",
       "<style scoped>\n",
       "    .dataframe tbody tr th:only-of-type {\n",
       "        vertical-align: middle;\n",
       "    }\n",
       "\n",
       "    .dataframe tbody tr th {\n",
       "        vertical-align: top;\n",
       "    }\n",
       "\n",
       "    .dataframe thead th {\n",
       "        text-align: right;\n",
       "    }\n",
       "</style>\n",
       "<table border=\"1\" class=\"dataframe\">\n",
       "  <thead>\n",
       "    <tr style=\"text-align: right;\">\n",
       "      <th></th>\n",
       "      <th>PORT_NAME</th>\n",
       "      <th>CNTR_CODE3</th>\n",
       "      <th>LONGITUDE</th>\n",
       "      <th>LATITUDE</th>\n",
       "      <th>Port Name Lower</th>\n",
       "      <th>Main Port Name</th>\n",
       "      <th>Country Code</th>\n",
       "      <th>Latitude</th>\n",
       "      <th>Longitude</th>\n",
       "      <th>_merge</th>\n",
       "      <th>lon diff</th>\n",
       "      <th>lat diff</th>\n",
       "      <th>position diff</th>\n",
       "      <th>Country Code 3</th>\n",
       "    </tr>\n",
       "  </thead>\n",
       "  <tbody>\n",
       "    <tr>\n",
       "      <th>8272</th>\n",
       "      <td>NaN</td>\n",
       "      <td>NaN</td>\n",
       "      <td>11.147972</td>\n",
       "      <td>63.717643</td>\n",
       "      <td>fiborgtangen</td>\n",
       "      <td>Fiborgtangen</td>\n",
       "      <td></td>\n",
       "      <td>63.717643</td>\n",
       "      <td>11.147972</td>\n",
       "      <td>right_only</td>\n",
       "      <td>-17.952028</td>\n",
       "      <td>27.084310</td>\n",
       "      <td>45.036338</td>\n",
       "      <td>NaN</td>\n",
       "    </tr>\n",
       "    <tr>\n",
       "      <th>8211</th>\n",
       "      <td>NaN</td>\n",
       "      <td>NaN</td>\n",
       "      <td>6.333205</td>\n",
       "      <td>58.314907</td>\n",
       "      <td>jossingfjord</td>\n",
       "      <td>Jossingfjord</td>\n",
       "      <td></td>\n",
       "      <td>58.314907</td>\n",
       "      <td>6.333205</td>\n",
       "      <td>right_only</td>\n",
       "      <td>71.183205</td>\n",
       "      <td>48.214907</td>\n",
       "      <td>119.398112</td>\n",
       "      <td>NaN</td>\n",
       "    </tr>\n",
       "    <tr>\n",
       "      <th>8266</th>\n",
       "      <td>NaN</td>\n",
       "      <td>NaN</td>\n",
       "      <td>27.835338</td>\n",
       "      <td>71.041347</td>\n",
       "      <td>mehamnfjorden</td>\n",
       "      <td>Mehamnfjorden</td>\n",
       "      <td></td>\n",
       "      <td>71.041347</td>\n",
       "      <td>27.835338</td>\n",
       "      <td>right_only</td>\n",
       "      <td>-1.747995</td>\n",
       "      <td>34.908013</td>\n",
       "      <td>36.656008</td>\n",
       "      <td>NaN</td>\n",
       "    </tr>\n",
       "  </tbody>\n",
       "</table>\n",
       "</div>"
      ],
      "text/plain": [
       "     PORT_NAME CNTR_CODE3  LONGITUDE   LATITUDE Port Name Lower  \\\n",
       "8272       NaN        NaN  11.147972  63.717643    fiborgtangen   \n",
       "8211       NaN        NaN   6.333205  58.314907    jossingfjord   \n",
       "8266       NaN        NaN  27.835338  71.041347   mehamnfjorden   \n",
       "\n",
       "     Main Port Name Country Code   Latitude  Longitude      _merge   lon diff  \\\n",
       "8272   Fiborgtangen               63.717643  11.147972  right_only -17.952028   \n",
       "8211   Jossingfjord               58.314907   6.333205  right_only  71.183205   \n",
       "8266  Mehamnfjorden               71.041347  27.835338  right_only  -1.747995   \n",
       "\n",
       "       lat diff  position diff Country Code 3  \n",
       "8272  27.084310      45.036338            NaN  \n",
       "8211  48.214907     119.398112            NaN  \n",
       "8266  34.908013      36.656008            NaN  "
      ]
     },
     "execution_count": 14,
     "metadata": {},
     "output_type": "execute_result"
    }
   ],
   "source": [
    "ports_clean[ports_clean['CNTR_CODE3'].isna()]"
   ]
  },
  {
   "cell_type": "code",
   "execution_count": 18,
   "id": "25ef1529",
   "metadata": {},
   "outputs": [],
   "source": [
    "# checked those three manually - they are in Norway. Impute NOR for those\n",
    "ports_clean.loc[ports_clean['CNTR_CODE3'].isna(), 'CNTR_CODE3'] = 'NOR'"
   ]
  },
  {
   "cell_type": "code",
   "execution_count": 19,
   "id": "c1f28078",
   "metadata": {},
   "outputs": [
    {
     "data": {
      "text/html": [
       "<div>\n",
       "<style scoped>\n",
       "    .dataframe tbody tr th:only-of-type {\n",
       "        vertical-align: middle;\n",
       "    }\n",
       "\n",
       "    .dataframe tbody tr th {\n",
       "        vertical-align: top;\n",
       "    }\n",
       "\n",
       "    .dataframe thead th {\n",
       "        text-align: right;\n",
       "    }\n",
       "</style>\n",
       "<table border=\"1\" class=\"dataframe\">\n",
       "  <thead>\n",
       "    <tr style=\"text-align: right;\">\n",
       "      <th></th>\n",
       "      <th>PORT_NAME</th>\n",
       "      <th>CNTR_CODE3</th>\n",
       "      <th>LONGITUDE</th>\n",
       "      <th>LATITUDE</th>\n",
       "      <th>Port Name Lower</th>\n",
       "      <th>Main Port Name</th>\n",
       "      <th>Country Code</th>\n",
       "      <th>Latitude</th>\n",
       "      <th>Longitude</th>\n",
       "      <th>_merge</th>\n",
       "      <th>lon diff</th>\n",
       "      <th>lat diff</th>\n",
       "      <th>position diff</th>\n",
       "      <th>Country Code 3</th>\n",
       "    </tr>\n",
       "  </thead>\n",
       "  <tbody>\n",
       "  </tbody>\n",
       "</table>\n",
       "</div>"
      ],
      "text/plain": [
       "Empty DataFrame\n",
       "Columns: [PORT_NAME, CNTR_CODE3, LONGITUDE, LATITUDE, Port Name Lower, Main Port Name, Country Code, Latitude, Longitude, _merge, lon diff, lat diff, position diff, Country Code 3]\n",
       "Index: []"
      ]
     },
     "execution_count": 19,
     "metadata": {},
     "output_type": "execute_result"
    }
   ],
   "source": [
    "ports_clean[ports_clean['CNTR_CODE3'].isna()]"
   ]
  },
  {
   "cell_type": "code",
   "execution_count": 20,
   "id": "7b21b520",
   "metadata": {},
   "outputs": [],
   "source": [
    "ports_clean.to_csv('data/ports_clean.csv', index = False)"
   ]
  },
  {
   "cell_type": "code",
   "execution_count": null,
   "id": "04123265",
   "metadata": {},
   "outputs": [],
   "source": []
  },
  {
   "cell_type": "code",
   "execution_count": null,
   "id": "4b45cb1f",
   "metadata": {},
   "outputs": [],
   "source": []
  }
 ],
 "metadata": {
  "kernelspec": {
   "display_name": "Python 3 (ipykernel)",
   "language": "python",
   "name": "python3"
  },
  "language_info": {
   "codemirror_mode": {
    "name": "ipython",
    "version": 3
   },
   "file_extension": ".py",
   "mimetype": "text/x-python",
   "name": "python",
   "nbconvert_exporter": "python",
   "pygments_lexer": "ipython3",
   "version": "3.11.5"
  }
 },
 "nbformat": 4,
 "nbformat_minor": 5
}
