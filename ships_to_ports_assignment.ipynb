{
 "cells": [
  {
   "cell_type": "markdown",
   "id": "000b8a96",
   "metadata": {},
   "source": [
    "# Assignment of Ships to Ports"
   ]
  },
  {
   "cell_type": "code",
   "execution_count": 1,
   "id": "3b275102",
   "metadata": {},
   "outputs": [],
   "source": [
    "import pandas as pd\n",
    "import os\n",
    "import numpy as np\n"
   ]
  },
  {
   "cell_type": "code",
   "execution_count": 2,
   "id": "0d2136d9",
   "metadata": {},
   "outputs": [],
   "source": [
    "# import ships and ports data\n",
    "current_directory = os.path.abspath(\".\")\n",
    "relative_path = \"data/2019_AIS.csv\"\n",
    "full_file_path = os.path.join(current_directory, relative_path)\n",
    "ais = pd.read_csv(full_file_path)\n",
    "\n",
    "relative_path = \"data/ports_clean.csv\"\n",
    "full_file_path = os.path.join(current_directory, relative_path)\n",
    "ports = pd.read_csv(full_file_path)"
   ]
  },
  {
   "cell_type": "code",
   "execution_count": 3,
   "id": "cb0ae2a0",
   "metadata": {},
   "outputs": [],
   "source": [
    "# initialize columns to collect next port\n",
    "ais['nearest_port'] = np.nan\n",
    "ais['nearest_port_country'] = np.nan\n",
    "ais['nearest_port_lon'] = np.nan\n",
    "ais['nearest_port_lat'] = np.nan"
   ]
  },
  {
   "cell_type": "code",
   "execution_count": 4,
   "id": "5743d2bc",
   "metadata": {},
   "outputs": [
    {
     "name": "stdout",
     "output_type": "stream",
     "text": [
      "Progress:  0.0 %\n",
      "Progress:  1.14 %\n",
      "Progress:  2.28 %\n",
      "Progress:  3.42 %\n",
      "Progress:  4.57 %\n",
      "Progress:  5.71 %\n",
      "Progress:  6.85 %\n",
      "Progress:  7.99 %\n",
      "Progress:  9.13 %\n",
      "Progress:  10.27 %\n",
      "Progress:  11.42 %\n",
      "Progress:  12.56 %\n",
      "Progress:  13.7 %\n",
      "Progress:  14.84 %\n",
      "Progress:  15.98 %\n",
      "Progress:  17.12 %\n",
      "Progress:  18.26 %\n",
      "Progress:  19.41 %\n",
      "Progress:  20.55 %\n",
      "Progress:  21.69 %\n",
      "Progress:  22.83 %\n",
      "Progress:  23.97 %\n",
      "Progress:  25.11 %\n",
      "Progress:  26.26 %\n",
      "Progress:  27.4 %\n",
      "Progress:  28.54 %\n",
      "Progress:  29.68 %\n",
      "Progress:  30.82 %\n",
      "Progress:  31.96 %\n",
      "Progress:  33.11 %\n",
      "Progress:  34.25 %\n",
      "Progress:  35.39 %\n",
      "Progress:  36.53 %\n",
      "Progress:  37.67 %\n",
      "Progress:  38.81 %\n",
      "Progress:  39.95 %\n",
      "Progress:  41.1 %\n",
      "Progress:  42.24 %\n",
      "Progress:  43.38 %\n",
      "Progress:  44.52 %\n",
      "Progress:  45.66 %\n",
      "Progress:  46.8 %\n",
      "Progress:  47.95 %\n",
      "Progress:  49.09 %\n",
      "Progress:  50.23 %\n",
      "Progress:  51.37 %\n",
      "Progress:  52.51 %\n",
      "Progress:  53.65 %\n",
      "Progress:  54.79 %\n",
      "Progress:  55.94 %\n",
      "Progress:  57.08 %\n",
      "Progress:  58.22 %\n",
      "Progress:  59.36 %\n",
      "Progress:  60.5 %\n",
      "Progress:  61.64 %\n",
      "Progress:  62.79 %\n",
      "Progress:  63.93 %\n",
      "Progress:  65.07 %\n",
      "Progress:  66.21 %\n",
      "Progress:  67.35 %\n",
      "Progress:  68.49 %\n",
      "Progress:  69.63 %\n",
      "Progress:  70.78 %\n",
      "Progress:  71.92 %\n",
      "Progress:  73.06 %\n",
      "Progress:  74.2 %\n",
      "Progress:  75.34 %\n",
      "Progress:  76.48 %\n",
      "Progress:  77.63 %\n",
      "Progress:  78.77 %\n",
      "Progress:  79.91 %\n",
      "Progress:  81.05 %\n",
      "Progress:  82.19 %\n",
      "Progress:  83.33 %\n",
      "Progress:  84.47 %\n",
      "Progress:  85.62 %\n",
      "Progress:  86.76 %\n",
      "Progress:  87.9 %\n",
      "Progress:  89.04 %\n",
      "Progress:  90.18 %\n",
      "Progress:  91.32 %\n",
      "Progress:  92.47 %\n",
      "Progress:  93.61 %\n",
      "Progress:  94.75 %\n",
      "Progress:  95.89 %\n",
      "Progress:  97.03 %\n",
      "Progress:  98.17 %\n",
      "Progress:  99.32 %\n"
     ]
    }
   ],
   "source": [
    "assignment_threshold = 0.01\n",
    "\n",
    "for i in range(len(ais)):\n",
    "    \n",
    "    # compute distance of ship i to all ports, in units of longitude/latitude grid\n",
    "    distances = (np.sqrt((ais['LONGITUDE'][i] - ports['LONGITUDE'])**2 + (ais['LATITUDE'][i] - ports['LATITUDE'])**2))\n",
    "    \n",
    "    # get the shortest distance to any port\n",
    "    shortest_distance = distances.min()\n",
    "    \n",
    "    # if this shortest ditance is smaller than my assignment threshold\n",
    "    if shortest_distance < assignment_threshold:\n",
    "        # get the index of the row with the shortest distance and use that index to retrieve port name and country and write it to ais\n",
    "        shortest_distance_idx = distances.idxmin()\n",
    "        ais.loc[i, 'nearest_port'] = ports.loc[shortest_distance_idx, 'Port Name Lower']\n",
    "        ais.loc[i, 'nearest_port_country'] = ports.loc[shortest_distance_idx, 'CNTR_CODE3']\n",
    "        ais.loc[i, 'nearest_port_lon'] = ports.loc[shortest_distance_idx, 'LONGITUDE']\n",
    "        ais.loc[i, 'nearest_port_lat'] = ports.loc[shortest_distance_idx, 'LATITUDE']\n",
    "        \n",
    "    if i % 10000 == 0:\n",
    "        print('Progress: ', round((i / len(ais)) * 100, 2) , '%')"
   ]
  },
  {
   "cell_type": "code",
   "execution_count": 5,
   "id": "9a68e478",
   "metadata": {},
   "outputs": [],
   "source": [
    "# save df with assignment of ships to ports as csv\n",
    "relative_path = \"data/2019_AIS_assigend.csv\"\n",
    "full_file_path = os.path.join(current_directory, relative_path)\n",
    "ais.to_csv(full_file_path, index = False)\n"
   ]
  },
  {
   "cell_type": "code",
   "execution_count": null,
   "id": "307e8bdb",
   "metadata": {},
   "outputs": [],
   "source": []
  },
  {
   "cell_type": "code",
   "execution_count": null,
   "id": "ddfe1d49",
   "metadata": {},
   "outputs": [],
   "source": []
  },
  {
   "cell_type": "code",
   "execution_count": null,
   "id": "649672ef",
   "metadata": {},
   "outputs": [],
   "source": []
  },
  {
   "cell_type": "code",
   "execution_count": null,
   "id": "8c48efba",
   "metadata": {},
   "outputs": [],
   "source": []
  },
  {
   "cell_type": "code",
   "execution_count": null,
   "id": "1d912f69",
   "metadata": {},
   "outputs": [],
   "source": []
  },
  {
   "cell_type": "code",
   "execution_count": null,
   "id": "816fa325",
   "metadata": {},
   "outputs": [],
   "source": []
  }
 ],
 "metadata": {
  "kernelspec": {
   "display_name": "Python 3 (ipykernel)",
   "language": "python",
   "name": "python3"
  },
  "language_info": {
   "codemirror_mode": {
    "name": "ipython",
    "version": 3
   },
   "file_extension": ".py",
   "mimetype": "text/x-python",
   "name": "python",
   "nbconvert_exporter": "python",
   "pygments_lexer": "ipython3",
   "version": "3.11.5"
  }
 },
 "nbformat": 4,
 "nbformat_minor": 5
}
